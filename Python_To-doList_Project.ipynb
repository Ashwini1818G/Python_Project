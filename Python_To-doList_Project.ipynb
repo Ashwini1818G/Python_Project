{
 "cells": [
  {
   "cell_type": "markdown",
   "id": "b9c6f139-54db-42ce-8cff-51690ea4c574",
   "metadata": {},
   "source": [
    "## This is a to-do list app"
   ]
  },
  {
   "cell_type": "markdown",
   "id": "b3987d0d-df40-4a4d-b578-69ba70a4b2fa",
   "metadata": {},
   "source": [
    "#### Built a simple To-Do List application using functions that allows users to:"
   ]
  },
  {
   "cell_type": "markdown",
   "id": "d5b54464-66db-4a76-ae4f-e717f98cfb89",
   "metadata": {},
   "source": [
    "Add a new task\n",
    "\n",
    "View all tasks\n",
    "\n",
    "Write the status of task as done or pending\n",
    "\n",
    "Delete a task\n",
    "\n",
    "Exit the program\n",
    "\n"
   ]
  },
  {
   "cell_type": "code",
   "execution_count": 10,
   "id": "4abf300e-2f08-478a-9f95-9fa0e5fe65bf",
   "metadata": {},
   "outputs": [
    {
     "name": "stdout",
     "output_type": "stream",
     "text": [
      "\n",
      "WELCOME TO TO-DO LIST APP!\n",
      "\n",
      "To-do list menu\n",
      "1. Add a new task\n",
      "2. View all tasks\n",
      "3. Delete a task\n",
      "4. Exit\n"
     ]
    },
    {
     "name": "stdin",
     "output_type": "stream",
     "text": [
      "Enter a number between 1-4 to add, delete or view tasks 2\n"
     ]
    },
    {
     "name": "stdout",
     "output_type": "stream",
     "text": [
      "\n",
      "No task to Show!\n",
      "\n",
      "WELCOME TO TO-DO LIST APP!\n",
      "\n",
      "To-do list menu\n",
      "1. Add a new task\n",
      "2. View all tasks\n",
      "3. Delete a task\n",
      "4. Exit\n"
     ]
    },
    {
     "name": "stdin",
     "output_type": "stream",
     "text": [
      "Enter a number between 1-4 to add, delete or view tasks 4\n"
     ]
    }
   ],
   "source": [
    "#### A list to hold tasks\n",
    "tasks = []\n",
    "# Function to show menu\n",
    "def Show_menu():\n",
    "    print(\"\\nTo-do list menu\")\n",
    "    print(\"1. Add a new task\")\n",
    "    print(\"2. View all tasks\")\n",
    "    print(\"3. Delete a task\")\n",
    "    print(\"4. Exit\")\n",
    "\n",
    "# Function to add a new task\n",
    "def Add_Task():\n",
    "    new_task = input(\"Enter the task: \")\n",
    "    task_status = input(\"Enter the status as done or pending: \")\n",
    "    tasks.append({\"task\": new_task, \"status\": task_status})\n",
    "    print(\"Task added!\")\n",
    "\n",
    "# Function to view tasks\n",
    "def View_All_Tasks():\n",
    "    if len(tasks) == 0:\n",
    "        print(\"\\nNo task to Show!\")\n",
    "    else:\n",
    "        print(tasks)\n",
    "# Function to delete task\n",
    "def delete_task():\n",
    "    task_num = int(input(\"Enter the task number to delete the task: \"))\n",
    "    if  0 < task_num <= len(tasks):\n",
    "        deleted_task = tasks.pop(task_num-1)\n",
    "        print(f\" Task deleted! {deleted_task}\")\n",
    "    else:\n",
    "        print(\"Please enter a valid task number\")\n",
    "\n",
    "# Driver code of the program\n",
    "while  True:\n",
    "    print(\"\\nWELCOME TO TO-DO LIST APP!\")\n",
    "    Show_menu()\n",
    "    choice = int(input(\"Enter a number between 1-4 to add, delete or view tasks\"))\n",
    "    if choice == 1:\n",
    "        Add_Task()\n",
    "    elif choice == 2:\n",
    "        View_All_Tasks()\n",
    "    elif choice == 3:\n",
    "        delete_task()\n",
    "    elif choice == 4:\n",
    "        break\n",
    "    else: \n",
    "         print(\"Please provide a valid choice between 1 - 3\")\n",
    "\n",
    "    "
   ]
  },
  {
   "cell_type": "code",
   "execution_count": null,
   "id": "88ef99cb-a291-4133-a64c-525a826371be",
   "metadata": {},
   "outputs": [],
   "source": []
  },
  {
   "cell_type": "code",
   "execution_count": null,
   "id": "893038f1-97e4-492a-b7a0-c880918dc4c2",
   "metadata": {},
   "outputs": [],
   "source": []
  }
 ],
 "metadata": {
  "kernelspec": {
   "display_name": "Python 3 (ipykernel)",
   "language": "python",
   "name": "python3"
  },
  "language_info": {
   "codemirror_mode": {
    "name": "ipython",
    "version": 3
   },
   "file_extension": ".py",
   "mimetype": "text/x-python",
   "name": "python",
   "nbconvert_exporter": "python",
   "pygments_lexer": "ipython3",
   "version": "3.12.7"
  }
 },
 "nbformat": 4,
 "nbformat_minor": 5
}
